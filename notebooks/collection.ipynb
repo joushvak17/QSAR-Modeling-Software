{
 "cells": [
  {
   "cell_type": "code",
   "execution_count": 1,
   "id": "initial_id",
   "metadata": {
    "ExecuteTime": {
     "end_time": "2024-04-10T16:36:43.274084Z",
     "start_time": "2024-04-10T16:36:34.601381Z"
    },
    "collapsed": true
   },
   "outputs": [],
   "source": [
    "from chembl_webresource_client.new_client import new_client\n",
    "import pandas as pd"
   ]
  },
  {
   "cell_type": "code",
   "execution_count": null,
   "id": "a85d2156a70e59f0",
   "metadata": {
    "ExecuteTime": {
     "end_time": "2024-04-10T16:50:44.296421Z",
     "start_time": "2024-04-10T16:50:36.689852Z"
    },
    "collapsed": false
   },
   "outputs": [],
   "source": [
    "target = new_client.target\n",
    "p_name = input('Enter the name of your target:')\n",
    "print('Target name: %s' % p_name)\n",
    "target_query = target.search(p_name)\n",
    "targets = pd.DataFrame.from_dict(target_query)\n",
    "targets"
   ]
  },
  {
   "cell_type": "code",
   "execution_count": null,
   "id": "1778e6d81a70752",
   "metadata": {
    "ExecuteTime": {
     "end_time": "2024-04-10T16:50:48.143010Z",
     "start_time": "2024-04-10T16:50:48.100717Z"
    },
    "collapsed": false
   },
   "outputs": [],
   "source": [
    "selected_target = targets.target_chembl_id[9]\n",
    "selected_target"
   ]
  },
  {
   "cell_type": "code",
   "execution_count": null,
   "id": "439314cf92c4d5b1",
   "metadata": {
    "ExecuteTime": {
     "end_time": "2024-04-10T17:14:54.867163Z",
     "start_time": "2024-04-10T16:51:12.150255Z"
    },
    "collapsed": false
   },
   "outputs": [],
   "source": [
    "activity = new_client.activity\n",
    "activity_query = activity.filter(standard_type='IC50',\n",
    "                                 target_type='PROTEIN COMPLEX GROUP',\n",
    "                                 target_organism='Homo sapiens')\n",
    "activities = pd.DataFrame.from_dict(activity_query)\n",
    "activities"
   ]
  },
  {
   "cell_type": "code",
   "execution_count": null,
   "id": "828251b899ea1644",
   "metadata": {
    "ExecuteTime": {
     "end_time": "2024-04-10T17:19:47.120358Z",
     "start_time": "2024-04-10T17:19:47.106533Z"
    },
    "collapsed": false
   },
   "outputs": [],
   "source": [
    "list(activities.columns)"
   ]
  },
  {
   "cell_type": "code",
   "execution_count": null,
   "id": "40e0ebe0bc3f5252",
   "metadata": {
    "ExecuteTime": {
     "end_time": "2024-04-10T17:19:52.753775Z",
     "start_time": "2024-04-10T17:19:52.633338Z"
    },
    "collapsed": false
   },
   "outputs": [],
   "source": [
    "activities = activities[activities.standard_value.notna()]\n",
    "activities = activities[activities.canonical_smiles.notna()]\n",
    "activities"
   ]
  },
  {
   "cell_type": "code",
   "execution_count": null,
   "id": "fcee1b32464bfc6a",
   "metadata": {
    "ExecuteTime": {
     "end_time": "2024-04-10T17:20:20.344082Z",
     "start_time": "2024-04-10T17:20:20.280346Z"
    },
    "collapsed": false
   },
   "outputs": [],
   "source": [
    "activities = activities.drop_duplicates(['canonical_smiles'])\n",
    "activities"
   ]
  },
  {
   "cell_type": "code",
   "execution_count": null,
   "id": "6ed9f327f256076",
   "metadata": {
    "ExecuteTime": {
     "end_time": "2024-04-10T17:20:31.888573Z",
     "start_time": "2024-04-10T17:20:31.842535Z"
    },
    "collapsed": false
   },
   "outputs": [],
   "source": [
    "imp_col = ['molecule_chembl_id', 'canonical_smiles', 'standard_value']\n",
    "activities = activities[imp_col]\n",
    "activities"
   ]
  },
  {
   "cell_type": "code",
   "execution_count": null,
   "id": "c907ea8dac8f4e4d",
   "metadata": {
    "ExecuteTime": {
     "end_time": "2024-04-10T17:20:34.893136Z",
     "start_time": "2024-04-10T17:20:34.800116Z"
    },
    "collapsed": false
   },
   "outputs": [],
   "source": [
    "activities_copy = activities.copy()\n",
    "\n",
    "activities_copy['standard_value'] = activities_copy['standard_value'].astype(float)\n",
    "\n",
    "activities_copy = activities_copy[~activities_copy['standard_value'].between(100, 1000)]\n",
    "\n",
    "threshold = []\n",
    "for i in activities_copy.standard_value:\n",
    "    if i >= 1000:\n",
    "        threshold.append('inactive')\n",
    "    else:\n",
    "        threshold.append('active')\n",
    "\n",
    "activities_copy.loc[:, 'class'] = threshold\n",
    "activities_copy"
   ]
  },
  {
   "cell_type": "code",
   "execution_count": null,
   "id": "bf9d5cb2f9092ff5",
   "metadata": {
    "ExecuteTime": {
     "end_time": "2024-04-10T17:20:39.739103Z",
     "start_time": "2024-04-10T17:20:39.551448Z"
    },
    "collapsed": false
   },
   "outputs": [],
   "source": [
    "activities_copy.to_csv('CSV Files/EGFR_Data_Preprocessed.csv', index=False)"
   ]
  }
 ],
 "metadata": {
  "kernelspec": {
   "display_name": ".venv",
   "language": "python",
   "name": "python3"
  },
  "language_info": {
   "codemirror_mode": {
    "name": "ipython",
    "version": 3
   },
   "file_extension": ".py",
   "mimetype": "text/x-python",
   "name": "python",
   "nbconvert_exporter": "python",
   "pygments_lexer": "ipython3",
   "version": "3.12.3"
  }
 },
 "nbformat": 4,
 "nbformat_minor": 5
}
